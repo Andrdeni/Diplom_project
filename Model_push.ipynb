{
 "cells": [
  {
   "cell_type": "markdown",
   "metadata": {},
   "source": [
    "## Курс Специализация Data Science Дипломный проект.\n",
    "## «Модель прогнозирования оттока клиентов»"
   ]
  },
  {
   "cell_type": "markdown",
   "metadata": {},
   "source": [
    "В данном ноутбуке мы сделаем следующее:\n",
    "* Подгрузим обученную модель predictions\n",
    "* Выведем нашу модель в продакшен\n"
   ]
  },
  {
   "cell_type": "code",
   "execution_count": 28,
   "metadata": {},
   "outputs": [],
   "source": [
    "import pickle\n",
    "import warnings\n",
    "warnings.filterwarnings(\"ignore\")"
   ]
  },
  {
   "cell_type": "code",
   "execution_count": 29,
   "metadata": {},
   "outputs": [],
   "source": [
    "# Загрузка сохраненной модели из файла pickle\n",
    "with open(\"diplom_web/app/models/best_predictions_model.pkl\", \"rb\") as f:\n",
    "    loaded_model = pickle.load(f)"
   ]
  },
  {
   "cell_type": "markdown",
   "metadata": {},
   "source": [
    "#### Принимает запрос и модель, затем обрабатывет \n",
    "#### Запрос передает его в модель для получения предсказания, предсказание выводится в нормальном виде\n",
    "### Модель воспроизводится!!!"
   ]
  },
  {
   "cell_type": "code",
   "execution_count": null,
   "metadata": {},
   "outputs": [],
   "source": [
    "#pip freeze > requirements.txt"
   ]
  },
  {
   "cell_type": "markdown",
   "metadata": {},
   "source": [
    "### Контейнеризация Docker"
   ]
  },
  {
   "cell_type": "markdown",
   "metadata": {},
   "source": [
    "Образ, который будем использовать для своего контейнера — tiangolo/uwsgi-nginx-flask.  \n",
    "Образ этот создан на базе ОС Linux, и в нём уже настроено взаимодействие серверов uWSGI и NGINX через сокеты.\n",
    "\n",
    "Вся необходимая структура и сам конфигурационный файл для создания Docker образа находится в директории diplom_web."
   ]
  },
  {
   "cell_type": "markdown",
   "metadata": {},
   "source": [
    "Образ создаем в терминале ПК командой:\n",
    "\n",
    "    docker build -t diplom .\n",
    "\n",
    "Ждем окончания установки всех необходимых библиотек и запускаем нашь сервер командой\n",
    "    \n",
    "    docker run -p 5000:5000 diplom python server.py\n",
    "![](image/Запуск.png)\n",
    "\n",
    "после запуска страница браузера по адресу 127.0.0.1:5000 выдаст сообщение \"Тестовое сообщение. Сервер запущен!\"\n",
    "\n",
    "далее нужно перейти в терминале в директорию test \n",
    "\n",
    "    cd test\n",
    "    \n",
    "и запустить скрипт отправки запроса client.py\n",
    "\n",
    "    python3 client.py\n",
    "\n",
    "![](image/Вывод.png)\n"
   ]
  },
  {
   "cell_type": "markdown",
   "metadata": {},
   "source": [
    "## Заключение \n",
    "\n",
    "### На данном этапе мы имеем рабочий сервис с обученной моделью по поставленной нам задаче предсказания оттока клиентов."
   ]
  }
 ],
 "metadata": {
  "kernelspec": {
   "display_name": "Python 3",
   "language": "python",
   "name": "python3"
  },
  "language_info": {
   "codemirror_mode": {
    "name": "ipython",
    "version": 3
   },
   "file_extension": ".py",
   "mimetype": "text/x-python",
   "name": "python",
   "nbconvert_exporter": "python",
   "pygments_lexer": "ipython3",
   "version": "3.10.7"
  },
  "orig_nbformat": 4
 },
 "nbformat": 4,
 "nbformat_minor": 2
}
